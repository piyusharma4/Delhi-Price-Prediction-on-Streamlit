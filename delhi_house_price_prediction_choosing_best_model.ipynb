{
  "metadata": {
    "kernelspec": {
      "language": "python",
      "display_name": "Python 3",
      "name": "python3"
    },
    "language_info": {
      "name": "python",
      "version": "3.7.12",
      "mimetype": "text/x-python",
      "codemirror_mode": {
        "name": "ipython",
        "version": 3
      },
      "pygments_lexer": "ipython3",
      "nbconvert_exporter": "python",
      "file_extension": ".py"
    },
    "colab": {
      "provenance": []
    }
  },
  "nbformat_minor": 0,
  "nbformat": 4,
  "cells": [
    {
      "cell_type": "markdown",
      "source": [
        "# Getting Started"
      ],
      "metadata": {
        "id": "jHWCpr5PZwpP"
      }
    },
    {
      "cell_type": "markdown",
      "source": [
        "### Importing necessary libraries"
      ],
      "metadata": {
        "id": "ESzE9DS1ZwpR"
      }
    },
    {
      "cell_type": "code",
      "source": [
        "import numpy as np\n",
        "import pandas as pd\n",
        "\n",
        "from sklearn.model_selection import train_test_split\n",
        "from sklearn.preprocessing import StandardScaler\n",
        "\n",
        "!pip install pyyaml h5py\n",
        "!pip install impyute\n",
        "!pip install catboost\n",
        "import sys\n",
        "from impyute.imputation.cs import fast_knn\n",
        "sys.setrecursionlimit(100000) #Increase the recursion limit of the OS\n",
        "\n",
        "from sklearn.linear_model import LinearRegression, Ridge, Lasso\n",
        "from sklearn.neighbors import KNeighborsRegressor\n",
        "from sklearn.neural_network import MLPRegressor\n",
        "from sklearn.svm import LinearSVR, SVR\n",
        "from sklearn.tree import DecisionTreeRegressor\n",
        "from sklearn.ensemble import RandomForestRegressor, GradientBoostingRegressor\n",
        "from xgboost import XGBRegressor\n",
        "from lightgbm import LGBMRegressor\n",
        "from catboost import CatBoostRegressor\n",
        "from catboost import CatBoostClassifier, Pool\n",
        "\n",
        "import warnings\n",
        "warnings.filterwarnings(action='ignore')"
      ],
      "metadata": {
        "execution": {
          "iopub.status.busy": "2022-09-09T14:17:49.042128Z",
          "iopub.execute_input": "2022-09-09T14:17:49.042683Z",
          "iopub.status.idle": "2022-09-09T14:18:04.125001Z",
          "shell.execute_reply.started": "2022-09-09T14:17:49.042568Z",
          "shell.execute_reply": "2022-09-09T14:18:04.123833Z"
        },
        "trusted": true,
        "colab": {
          "base_uri": "https://localhost:8080/"
        },
        "id": "tC7ZkUkfZwpS",
        "outputId": "adc7b84d-f36f-4897-b998-cb15612a9bb5"
      },
      "execution_count": 1,
      "outputs": [
        {
          "output_type": "stream",
          "name": "stdout",
          "text": [
            "Looking in indexes: https://pypi.org/simple, https://us-python.pkg.dev/colab-wheels/public/simple/\n",
            "Requirement already satisfied: pyyaml in /usr/local/lib/python3.7/dist-packages (6.0)\n",
            "Requirement already satisfied: h5py in /usr/local/lib/python3.7/dist-packages (3.1.0)\n",
            "Requirement already satisfied: cached-property in /usr/local/lib/python3.7/dist-packages (from h5py) (1.5.2)\n",
            "Requirement already satisfied: numpy>=1.14.5 in /usr/local/lib/python3.7/dist-packages (from h5py) (1.21.6)\n",
            "Looking in indexes: https://pypi.org/simple, https://us-python.pkg.dev/colab-wheels/public/simple/\n",
            "Collecting impyute\n",
            "  Downloading impyute-0.0.8-py2.py3-none-any.whl (31 kB)\n",
            "Requirement already satisfied: numpy in /usr/local/lib/python3.7/dist-packages (from impyute) (1.21.6)\n",
            "Requirement already satisfied: scikit-learn in /usr/local/lib/python3.7/dist-packages (from impyute) (1.0.2)\n",
            "Requirement already satisfied: scipy in /usr/local/lib/python3.7/dist-packages (from impyute) (1.7.3)\n",
            "Requirement already satisfied: threadpoolctl>=2.0.0 in /usr/local/lib/python3.7/dist-packages (from scikit-learn->impyute) (3.1.0)\n",
            "Requirement already satisfied: joblib>=0.11 in /usr/local/lib/python3.7/dist-packages (from scikit-learn->impyute) (1.1.0)\n",
            "Installing collected packages: impyute\n",
            "Successfully installed impyute-0.0.8\n",
            "Looking in indexes: https://pypi.org/simple, https://us-python.pkg.dev/colab-wheels/public/simple/\n",
            "Collecting catboost\n",
            "  Downloading catboost-1.0.6-cp37-none-manylinux1_x86_64.whl (76.6 MB)\n",
            "\u001b[K     |████████████████████████████████| 76.6 MB 1.2 MB/s \n",
            "\u001b[?25hRequirement already satisfied: numpy>=1.16.0 in /usr/local/lib/python3.7/dist-packages (from catboost) (1.21.6)\n",
            "Requirement already satisfied: matplotlib in /usr/local/lib/python3.7/dist-packages (from catboost) (3.2.2)\n",
            "Requirement already satisfied: plotly in /usr/local/lib/python3.7/dist-packages (from catboost) (5.5.0)\n",
            "Requirement already satisfied: six in /usr/local/lib/python3.7/dist-packages (from catboost) (1.15.0)\n",
            "Requirement already satisfied: scipy in /usr/local/lib/python3.7/dist-packages (from catboost) (1.7.3)\n",
            "Requirement already satisfied: pandas>=0.24.0 in /usr/local/lib/python3.7/dist-packages (from catboost) (1.3.5)\n",
            "Requirement already satisfied: graphviz in /usr/local/lib/python3.7/dist-packages (from catboost) (0.10.1)\n",
            "Requirement already satisfied: pytz>=2017.3 in /usr/local/lib/python3.7/dist-packages (from pandas>=0.24.0->catboost) (2022.2.1)\n",
            "Requirement already satisfied: python-dateutil>=2.7.3 in /usr/local/lib/python3.7/dist-packages (from pandas>=0.24.0->catboost) (2.8.2)\n",
            "Requirement already satisfied: cycler>=0.10 in /usr/local/lib/python3.7/dist-packages (from matplotlib->catboost) (0.11.0)\n",
            "Requirement already satisfied: kiwisolver>=1.0.1 in /usr/local/lib/python3.7/dist-packages (from matplotlib->catboost) (1.4.4)\n",
            "Requirement already satisfied: pyparsing!=2.0.4,!=2.1.2,!=2.1.6,>=2.0.1 in /usr/local/lib/python3.7/dist-packages (from matplotlib->catboost) (3.0.9)\n",
            "Requirement already satisfied: typing-extensions in /usr/local/lib/python3.7/dist-packages (from kiwisolver>=1.0.1->matplotlib->catboost) (4.1.1)\n",
            "Requirement already satisfied: tenacity>=6.2.0 in /usr/local/lib/python3.7/dist-packages (from plotly->catboost) (8.0.1)\n",
            "Installing collected packages: catboost\n",
            "Successfully installed catboost-1.0.6\n"
          ]
        }
      ]
    },
    {
      "cell_type": "code",
      "source": [
        "data = pd.read_csv(\"/content/MagicBricks.csv\")\n",
        "data"
      ],
      "metadata": {
        "execution": {
          "iopub.status.busy": "2022-09-09T14:18:04.127491Z",
          "iopub.execute_input": "2022-09-09T14:18:04.127994Z",
          "iopub.status.idle": "2022-09-09T14:18:04.183148Z",
          "shell.execute_reply.started": "2022-09-09T14:18:04.127940Z",
          "shell.execute_reply": "2022-09-09T14:18:04.181966Z"
        },
        "trusted": true,
        "colab": {
          "base_uri": "https://localhost:8080/",
          "height": 624
        },
        "id": "APf1V0yDZwpU",
        "outputId": "0df20b45-7880-4929-d074-3589c4e5fe7e"
      },
      "execution_count": 2,
      "outputs": [
        {
          "output_type": "execute_result",
          "data": {
            "text/plain": [
              "         Area  BHK  Bathroom      Furnishing  \\\n",
              "0       800.0    3       2.0  Semi-Furnished   \n",
              "1       750.0    2       2.0  Semi-Furnished   \n",
              "2       950.0    2       2.0       Furnished   \n",
              "3       600.0    2       2.0  Semi-Furnished   \n",
              "4       650.0    2       2.0  Semi-Furnished   \n",
              "...       ...  ...       ...             ...   \n",
              "1254   4118.0    4       5.0     Unfurnished   \n",
              "1255   1050.0    3       2.0  Semi-Furnished   \n",
              "1256    875.0    3       3.0  Semi-Furnished   \n",
              "1257    990.0    2       2.0     Unfurnished   \n",
              "1258  11050.0    3       3.0     Unfurnished   \n",
              "\n",
              "                                               Locality  Parking     Price  \\\n",
              "0                                      Rohini Sector 25      1.0   6500000   \n",
              "1                J R Designers Floors, Rohini Sector 24      1.0   5000000   \n",
              "2                   Citizen Apartment, Rohini Sector 13      1.0  15500000   \n",
              "3                                      Rohini Sector 24      1.0   4200000   \n",
              "4     Rohini Sector 24 carpet area 650 sqft status R...      1.0   6200000   \n",
              "...                                                 ...      ...       ...   \n",
              "1254                                  Chittaranjan Park      3.0  55000000   \n",
              "1255                                  Chittaranjan Park      3.0  12500000   \n",
              "1256                                  Chittaranjan Park      3.0  17500000   \n",
              "1257                          Chittaranjan Park Block A      1.0  11500000   \n",
              "1258                                  Chittaranjan Park      1.0  18500000   \n",
              "\n",
              "             Status   Transaction           Type  Per_Sqft  \n",
              "0     Ready_to_move  New_Property  Builder_Floor       NaN  \n",
              "1     Ready_to_move  New_Property      Apartment    6667.0  \n",
              "2     Ready_to_move        Resale      Apartment    6667.0  \n",
              "3     Ready_to_move        Resale  Builder_Floor    6667.0  \n",
              "4     Ready_to_move  New_Property  Builder_Floor    6667.0  \n",
              "...             ...           ...            ...       ...  \n",
              "1254  Ready_to_move  New_Property  Builder_Floor   12916.0  \n",
              "1255  Ready_to_move        Resale  Builder_Floor   12916.0  \n",
              "1256  Ready_to_move  New_Property  Builder_Floor   12916.0  \n",
              "1257  Ready_to_move        Resale  Builder_Floor   12916.0  \n",
              "1258  Ready_to_move  New_Property  Builder_Floor   12916.0  \n",
              "\n",
              "[1259 rows x 11 columns]"
            ],
            "text/html": [
              "\n",
              "  <div id=\"df-450de4f6-c45a-4118-a64d-f418c2a48ddd\">\n",
              "    <div class=\"colab-df-container\">\n",
              "      <div>\n",
              "<style scoped>\n",
              "    .dataframe tbody tr th:only-of-type {\n",
              "        vertical-align: middle;\n",
              "    }\n",
              "\n",
              "    .dataframe tbody tr th {\n",
              "        vertical-align: top;\n",
              "    }\n",
              "\n",
              "    .dataframe thead th {\n",
              "        text-align: right;\n",
              "    }\n",
              "</style>\n",
              "<table border=\"1\" class=\"dataframe\">\n",
              "  <thead>\n",
              "    <tr style=\"text-align: right;\">\n",
              "      <th></th>\n",
              "      <th>Area</th>\n",
              "      <th>BHK</th>\n",
              "      <th>Bathroom</th>\n",
              "      <th>Furnishing</th>\n",
              "      <th>Locality</th>\n",
              "      <th>Parking</th>\n",
              "      <th>Price</th>\n",
              "      <th>Status</th>\n",
              "      <th>Transaction</th>\n",
              "      <th>Type</th>\n",
              "      <th>Per_Sqft</th>\n",
              "    </tr>\n",
              "  </thead>\n",
              "  <tbody>\n",
              "    <tr>\n",
              "      <th>0</th>\n",
              "      <td>800.0</td>\n",
              "      <td>3</td>\n",
              "      <td>2.0</td>\n",
              "      <td>Semi-Furnished</td>\n",
              "      <td>Rohini Sector 25</td>\n",
              "      <td>1.0</td>\n",
              "      <td>6500000</td>\n",
              "      <td>Ready_to_move</td>\n",
              "      <td>New_Property</td>\n",
              "      <td>Builder_Floor</td>\n",
              "      <td>NaN</td>\n",
              "    </tr>\n",
              "    <tr>\n",
              "      <th>1</th>\n",
              "      <td>750.0</td>\n",
              "      <td>2</td>\n",
              "      <td>2.0</td>\n",
              "      <td>Semi-Furnished</td>\n",
              "      <td>J R Designers Floors, Rohini Sector 24</td>\n",
              "      <td>1.0</td>\n",
              "      <td>5000000</td>\n",
              "      <td>Ready_to_move</td>\n",
              "      <td>New_Property</td>\n",
              "      <td>Apartment</td>\n",
              "      <td>6667.0</td>\n",
              "    </tr>\n",
              "    <tr>\n",
              "      <th>2</th>\n",
              "      <td>950.0</td>\n",
              "      <td>2</td>\n",
              "      <td>2.0</td>\n",
              "      <td>Furnished</td>\n",
              "      <td>Citizen Apartment, Rohini Sector 13</td>\n",
              "      <td>1.0</td>\n",
              "      <td>15500000</td>\n",
              "      <td>Ready_to_move</td>\n",
              "      <td>Resale</td>\n",
              "      <td>Apartment</td>\n",
              "      <td>6667.0</td>\n",
              "    </tr>\n",
              "    <tr>\n",
              "      <th>3</th>\n",
              "      <td>600.0</td>\n",
              "      <td>2</td>\n",
              "      <td>2.0</td>\n",
              "      <td>Semi-Furnished</td>\n",
              "      <td>Rohini Sector 24</td>\n",
              "      <td>1.0</td>\n",
              "      <td>4200000</td>\n",
              "      <td>Ready_to_move</td>\n",
              "      <td>Resale</td>\n",
              "      <td>Builder_Floor</td>\n",
              "      <td>6667.0</td>\n",
              "    </tr>\n",
              "    <tr>\n",
              "      <th>4</th>\n",
              "      <td>650.0</td>\n",
              "      <td>2</td>\n",
              "      <td>2.0</td>\n",
              "      <td>Semi-Furnished</td>\n",
              "      <td>Rohini Sector 24 carpet area 650 sqft status R...</td>\n",
              "      <td>1.0</td>\n",
              "      <td>6200000</td>\n",
              "      <td>Ready_to_move</td>\n",
              "      <td>New_Property</td>\n",
              "      <td>Builder_Floor</td>\n",
              "      <td>6667.0</td>\n",
              "    </tr>\n",
              "    <tr>\n",
              "      <th>...</th>\n",
              "      <td>...</td>\n",
              "      <td>...</td>\n",
              "      <td>...</td>\n",
              "      <td>...</td>\n",
              "      <td>...</td>\n",
              "      <td>...</td>\n",
              "      <td>...</td>\n",
              "      <td>...</td>\n",
              "      <td>...</td>\n",
              "      <td>...</td>\n",
              "      <td>...</td>\n",
              "    </tr>\n",
              "    <tr>\n",
              "      <th>1254</th>\n",
              "      <td>4118.0</td>\n",
              "      <td>4</td>\n",
              "      <td>5.0</td>\n",
              "      <td>Unfurnished</td>\n",
              "      <td>Chittaranjan Park</td>\n",
              "      <td>3.0</td>\n",
              "      <td>55000000</td>\n",
              "      <td>Ready_to_move</td>\n",
              "      <td>New_Property</td>\n",
              "      <td>Builder_Floor</td>\n",
              "      <td>12916.0</td>\n",
              "    </tr>\n",
              "    <tr>\n",
              "      <th>1255</th>\n",
              "      <td>1050.0</td>\n",
              "      <td>3</td>\n",
              "      <td>2.0</td>\n",
              "      <td>Semi-Furnished</td>\n",
              "      <td>Chittaranjan Park</td>\n",
              "      <td>3.0</td>\n",
              "      <td>12500000</td>\n",
              "      <td>Ready_to_move</td>\n",
              "      <td>Resale</td>\n",
              "      <td>Builder_Floor</td>\n",
              "      <td>12916.0</td>\n",
              "    </tr>\n",
              "    <tr>\n",
              "      <th>1256</th>\n",
              "      <td>875.0</td>\n",
              "      <td>3</td>\n",
              "      <td>3.0</td>\n",
              "      <td>Semi-Furnished</td>\n",
              "      <td>Chittaranjan Park</td>\n",
              "      <td>3.0</td>\n",
              "      <td>17500000</td>\n",
              "      <td>Ready_to_move</td>\n",
              "      <td>New_Property</td>\n",
              "      <td>Builder_Floor</td>\n",
              "      <td>12916.0</td>\n",
              "    </tr>\n",
              "    <tr>\n",
              "      <th>1257</th>\n",
              "      <td>990.0</td>\n",
              "      <td>2</td>\n",
              "      <td>2.0</td>\n",
              "      <td>Unfurnished</td>\n",
              "      <td>Chittaranjan Park Block A</td>\n",
              "      <td>1.0</td>\n",
              "      <td>11500000</td>\n",
              "      <td>Ready_to_move</td>\n",
              "      <td>Resale</td>\n",
              "      <td>Builder_Floor</td>\n",
              "      <td>12916.0</td>\n",
              "    </tr>\n",
              "    <tr>\n",
              "      <th>1258</th>\n",
              "      <td>11050.0</td>\n",
              "      <td>3</td>\n",
              "      <td>3.0</td>\n",
              "      <td>Unfurnished</td>\n",
              "      <td>Chittaranjan Park</td>\n",
              "      <td>1.0</td>\n",
              "      <td>18500000</td>\n",
              "      <td>Ready_to_move</td>\n",
              "      <td>New_Property</td>\n",
              "      <td>Builder_Floor</td>\n",
              "      <td>12916.0</td>\n",
              "    </tr>\n",
              "  </tbody>\n",
              "</table>\n",
              "<p>1259 rows × 11 columns</p>\n",
              "</div>\n",
              "      <button class=\"colab-df-convert\" onclick=\"convertToInteractive('df-450de4f6-c45a-4118-a64d-f418c2a48ddd')\"\n",
              "              title=\"Convert this dataframe to an interactive table.\"\n",
              "              style=\"display:none;\">\n",
              "        \n",
              "  <svg xmlns=\"http://www.w3.org/2000/svg\" height=\"24px\"viewBox=\"0 0 24 24\"\n",
              "       width=\"24px\">\n",
              "    <path d=\"M0 0h24v24H0V0z\" fill=\"none\"/>\n",
              "    <path d=\"M18.56 5.44l.94 2.06.94-2.06 2.06-.94-2.06-.94-.94-2.06-.94 2.06-2.06.94zm-11 1L8.5 8.5l.94-2.06 2.06-.94-2.06-.94L8.5 2.5l-.94 2.06-2.06.94zm10 10l.94 2.06.94-2.06 2.06-.94-2.06-.94-.94-2.06-.94 2.06-2.06.94z\"/><path d=\"M17.41 7.96l-1.37-1.37c-.4-.4-.92-.59-1.43-.59-.52 0-1.04.2-1.43.59L10.3 9.45l-7.72 7.72c-.78.78-.78 2.05 0 2.83L4 21.41c.39.39.9.59 1.41.59.51 0 1.02-.2 1.41-.59l7.78-7.78 2.81-2.81c.8-.78.8-2.07 0-2.86zM5.41 20L4 18.59l7.72-7.72 1.47 1.35L5.41 20z\"/>\n",
              "  </svg>\n",
              "      </button>\n",
              "      \n",
              "  <style>\n",
              "    .colab-df-container {\n",
              "      display:flex;\n",
              "      flex-wrap:wrap;\n",
              "      gap: 12px;\n",
              "    }\n",
              "\n",
              "    .colab-df-convert {\n",
              "      background-color: #E8F0FE;\n",
              "      border: none;\n",
              "      border-radius: 50%;\n",
              "      cursor: pointer;\n",
              "      display: none;\n",
              "      fill: #1967D2;\n",
              "      height: 32px;\n",
              "      padding: 0 0 0 0;\n",
              "      width: 32px;\n",
              "    }\n",
              "\n",
              "    .colab-df-convert:hover {\n",
              "      background-color: #E2EBFA;\n",
              "      box-shadow: 0px 1px 2px rgba(60, 64, 67, 0.3), 0px 1px 3px 1px rgba(60, 64, 67, 0.15);\n",
              "      fill: #174EA6;\n",
              "    }\n",
              "\n",
              "    [theme=dark] .colab-df-convert {\n",
              "      background-color: #3B4455;\n",
              "      fill: #D2E3FC;\n",
              "    }\n",
              "\n",
              "    [theme=dark] .colab-df-convert:hover {\n",
              "      background-color: #434B5C;\n",
              "      box-shadow: 0px 1px 3px 1px rgba(0, 0, 0, 0.15);\n",
              "      filter: drop-shadow(0px 1px 2px rgba(0, 0, 0, 0.3));\n",
              "      fill: #FFFFFF;\n",
              "    }\n",
              "  </style>\n",
              "\n",
              "      <script>\n",
              "        const buttonEl =\n",
              "          document.querySelector('#df-450de4f6-c45a-4118-a64d-f418c2a48ddd button.colab-df-convert');\n",
              "        buttonEl.style.display =\n",
              "          google.colab.kernel.accessAllowed ? 'block' : 'none';\n",
              "\n",
              "        async function convertToInteractive(key) {\n",
              "          const element = document.querySelector('#df-450de4f6-c45a-4118-a64d-f418c2a48ddd');\n",
              "          const dataTable =\n",
              "            await google.colab.kernel.invokeFunction('convertToInteractive',\n",
              "                                                     [key], {});\n",
              "          if (!dataTable) return;\n",
              "\n",
              "          const docLinkHtml = 'Like what you see? Visit the ' +\n",
              "            '<a target=\"_blank\" href=https://colab.research.google.com/notebooks/data_table.ipynb>data table notebook</a>'\n",
              "            + ' to learn more about interactive tables.';\n",
              "          element.innerHTML = '';\n",
              "          dataTable['output_type'] = 'display_data';\n",
              "          await google.colab.output.renderOutput(dataTable, element);\n",
              "          const docLink = document.createElement('div');\n",
              "          docLink.innerHTML = docLinkHtml;\n",
              "          element.appendChild(docLink);\n",
              "        }\n",
              "      </script>\n",
              "    </div>\n",
              "  </div>\n",
              "  "
            ]
          },
          "metadata": {},
          "execution_count": 2
        }
      ]
    },
    {
      "cell_type": "code",
      "source": [
        "data.info()"
      ],
      "metadata": {
        "execution": {
          "iopub.status.busy": "2022-09-09T14:18:04.184968Z",
          "iopub.execute_input": "2022-09-09T14:18:04.185310Z",
          "iopub.status.idle": "2022-09-09T14:18:04.210135Z",
          "shell.execute_reply.started": "2022-09-09T14:18:04.185282Z",
          "shell.execute_reply": "2022-09-09T14:18:04.209333Z"
        },
        "trusted": true,
        "colab": {
          "base_uri": "https://localhost:8080/"
        },
        "id": "Iq8CUWARZwpU",
        "outputId": "a5ff9024-2cb6-4e11-b4b6-bb6b06ff5a30"
      },
      "execution_count": 3,
      "outputs": [
        {
          "output_type": "stream",
          "name": "stdout",
          "text": [
            "<class 'pandas.core.frame.DataFrame'>\n",
            "RangeIndex: 1259 entries, 0 to 1258\n",
            "Data columns (total 11 columns):\n",
            " #   Column       Non-Null Count  Dtype  \n",
            "---  ------       --------------  -----  \n",
            " 0   Area         1259 non-null   float64\n",
            " 1   BHK          1259 non-null   int64  \n",
            " 2   Bathroom     1257 non-null   float64\n",
            " 3   Furnishing   1254 non-null   object \n",
            " 4   Locality     1259 non-null   object \n",
            " 5   Parking      1226 non-null   float64\n",
            " 6   Price        1259 non-null   int64  \n",
            " 7   Status       1259 non-null   object \n",
            " 8   Transaction  1259 non-null   object \n",
            " 9   Type         1254 non-null   object \n",
            " 10  Per_Sqft     1018 non-null   float64\n",
            "dtypes: float64(4), int64(2), object(5)\n",
            "memory usage: 108.3+ KB\n"
          ]
        }
      ]
    },
    {
      "cell_type": "code",
      "source": [
        "#checking for null values\n",
        "data.isnull().sum()"
      ],
      "metadata": {
        "execution": {
          "iopub.status.busy": "2022-09-09T14:18:04.211880Z",
          "iopub.execute_input": "2022-09-09T14:18:04.212203Z",
          "iopub.status.idle": "2022-09-09T14:18:04.222217Z",
          "shell.execute_reply.started": "2022-09-09T14:18:04.212173Z",
          "shell.execute_reply": "2022-09-09T14:18:04.221355Z"
        },
        "trusted": true,
        "colab": {
          "base_uri": "https://localhost:8080/"
        },
        "id": "wxH83daHZwpV",
        "outputId": "de94777a-5fcf-44b6-a54b-d98ebf041101"
      },
      "execution_count": 4,
      "outputs": [
        {
          "output_type": "execute_result",
          "data": {
            "text/plain": [
              "Area             0\n",
              "BHK              0\n",
              "Bathroom         2\n",
              "Furnishing       5\n",
              "Locality         0\n",
              "Parking         33\n",
              "Price            0\n",
              "Status           0\n",
              "Transaction      0\n",
              "Type             5\n",
              "Per_Sqft       241\n",
              "dtype: int64"
            ]
          },
          "metadata": {},
          "execution_count": 4
        }
      ]
    },
    {
      "cell_type": "code",
      "source": [
        "import seaborn as sns\n",
        "import matplotlib.pyplot as plt\n",
        "sns.heatmap(data.corr(method='pearson'),annot=True)\n",
        "plt.show()\n",
        "# print(data.corr(method='pearson'))"
      ],
      "metadata": {
        "execution": {
          "iopub.status.busy": "2022-09-09T14:18:04.223308Z",
          "iopub.execute_input": "2022-09-09T14:18:04.223862Z",
          "iopub.status.idle": "2022-09-09T14:18:04.690528Z",
          "shell.execute_reply.started": "2022-09-09T14:18:04.223829Z",
          "shell.execute_reply": "2022-09-09T14:18:04.689295Z"
        },
        "trusted": true,
        "colab": {
          "base_uri": "https://localhost:8080/",
          "height": 270
        },
        "id": "EOKap713ZwpV",
        "outputId": "9df48db9-e447-4577-fdf2-94f7a1590123"
      },
      "execution_count": 5,
      "outputs": [
        {
          "output_type": "display_data",
          "data": {
            "text/plain": [
              "<Figure size 432x288 with 2 Axes>"
            ],
            "image/png": "[encoded data removed]"
          },
          "metadata": {
            "needs_background": "light"
          }
        }
      ]
    },
    {
      "cell_type": "code",
      "source": [
        "def onehot_encode(df, column, rename=False):\n",
        "    df = df.copy()\n",
        "    if rename == True:\n",
        "        df[column] = df[column].replace({x: i for i, x in enumerate(df[column].unique())})\n",
        "    dummies = pd.get_dummies(df[column], prefix=column)\n",
        "    df = pd.concat([df, dummies], axis=1)\n",
        "    df = df.drop(column, axis=1)\n",
        "    return df"
      ],
      "metadata": {
        "execution": {
          "iopub.status.busy": "2022-09-09T14:18:04.692036Z",
          "iopub.execute_input": "2022-09-09T14:18:04.692533Z",
          "iopub.status.idle": "2022-09-09T14:18:04.699980Z",
          "shell.execute_reply.started": "2022-09-09T14:18:04.692465Z",
          "shell.execute_reply": "2022-09-09T14:18:04.698813Z"
        },
        "trusted": true,
        "id": "-lyR-2XJZwpV"
      },
      "execution_count": 6,
      "outputs": []
    },
    {
      "cell_type": "code",
      "source": [
        " x=data.copy()\n",
        "    \n",
        "x.drop(columns='Locality',axis=1,inplace=True)\n",
        "\n",
        "    # Fill missing values\n",
        "for column in ['Bathroom', 'Parking', 'Type']:\n",
        "    x[column] = x[column].fillna(x[column].mode()[0])\n",
        "\n",
        "# Binary encoding\n",
        "x['Status'] = x['Status'].replace({\n",
        "    'Almost_ready': 0,\n",
        "    'Ready_to_move': 1\n",
        "})\n",
        "x['Transaction'] = x['Transaction'].replace({\n",
        "    'New_Property': 0,\n",
        "    'Resale': 1\n",
        "})\n",
        "x['Type'] = x['Type'].replace({\n",
        "    'Builder_Floor': 0,\n",
        "    'Apartment': 1\n",
        "})\n",
        "x = onehot_encode(x, column='Furnishing', rename=False)\n",
        "\n",
        "missing_target_rows=x.loc[x['Per_Sqft'].isnull(),:].index\n",
        "# calculate the KNN imputation\n",
        "imputed_training=fast_knn(x.values, k=30)\n",
        "to_fill_val=[]\n",
        "for index in missing_target_rows:\n",
        "    to_fill_val.append(np.float(round(imputed_training[index][8])))\n",
        "\n",
        "to_fill_dic={ind:val for ind,val in zip(missing_target_rows,to_fill_val)}\n",
        "x['Per_Sqft'].fillna(to_fill_dic,axis=0,inplace=True)\n",
        "\n",
        "\n",
        "# Split df into X and y\n",
        "y = x['Price']\n",
        "X = x.drop('Price', axis=1)\n",
        "\n",
        "# Train-test split\n",
        "X_train, X_test, y_train, y_test = train_test_split(X, y, train_size=0.7, shuffle=True, random_state=1)\n",
        "\n",
        "# Scale X\n",
        "scaler = StandardScaler()\n",
        "scaler.fit(X_train)\n",
        "X_train = pd.DataFrame(scaler.transform(X_train), index=X_train.index, columns=X_train.columns)\n",
        "X_test = pd.DataFrame(scaler.transform(X_test), index=X_test.index, columns=X_test.columns)"
      ],
      "metadata": {
        "execution": {
          "iopub.status.busy": "2022-09-09T14:18:04.701755Z",
          "iopub.execute_input": "2022-09-09T14:18:04.702100Z",
          "iopub.status.idle": "2022-09-09T14:18:04.938639Z",
          "shell.execute_reply.started": "2022-09-09T14:18:04.702069Z",
          "shell.execute_reply": "2022-09-09T14:18:04.937581Z"
        },
        "trusted": true,
        "id": "7BKcprDmZwpW"
      },
      "execution_count": 7,
      "outputs": []
    },
    {
      "cell_type": "code",
      "source": [
        "a,b,c,d=train_test_split(X, y, train_size=0.7, shuffle=True, random_state=1)"
      ],
      "metadata": {
        "id": "YGKSi1e0tNaf"
      },
      "execution_count": 8,
      "outputs": []
    },
    {
      "cell_type": "code",
      "source": [
        "b\n"
      ],
      "metadata": {
        "colab": {
          "base_uri": "https://localhost:8080/",
          "height": 505
        },
        "id": "aJ0F8pQ7tUxZ",
        "outputId": "64fbcf9d-d015-47bf-a901-d05b2f3ccaeb"
      },
      "execution_count": 9,
      "outputs": [
        {
          "output_type": "execute_result",
          "data": {
            "text/plain": [
              "        Area  BHK  Bathroom  Parking  Status  Transaction  Type  Per_Sqft  \\\n",
              "972   1300.0    3       3.0      1.0       1            1     1   15174.0   \n",
              "719   1500.0    3       2.0      1.0       1            1     0   15563.0   \n",
              "979    780.0    2       2.0      1.0       1            1     1    9655.0   \n",
              "550   1500.0    3       2.0      1.0       1            0     0   28846.0   \n",
              "512   2250.0    3       2.0      1.0       1            1     0    4444.0   \n",
              "...      ...  ...       ...      ...     ...          ...   ...       ...   \n",
              "821   1250.0    3       3.0      2.0       0            0     0    8060.0   \n",
              "1014  1260.0    3       2.0      1.0       1            1     0    5556.0   \n",
              "503   1100.0    2       2.0      1.0       1            1     1   30556.0   \n",
              "401    495.0    2       2.0      1.0       1            0     0    6111.0   \n",
              "1089  1600.0    3       4.0      1.0       1            1     1   10556.0   \n",
              "\n",
              "      Furnishing_Furnished  Furnishing_Semi-Furnished  Furnishing_Unfurnished  \n",
              "972                      1                          0                       0  \n",
              "719                      0                          0                       0  \n",
              "979                      0                          1                       0  \n",
              "550                      0                          1                       0  \n",
              "512                      0                          0                       0  \n",
              "...                    ...                        ...                     ...  \n",
              "821                      0                          0                       1  \n",
              "1014                     0                          1                       0  \n",
              "503                      0                          1                       0  \n",
              "401                      0                          1                       0  \n",
              "1089                     0                          0                       1  \n",
              "\n",
              "[378 rows x 11 columns]"
            ],
            "text/html": [
              "\n",
              "  <div id=\"df-c1d33fe3-2996-4e38-bf20-1b3ffa7edb9d\">\n",
              "    <div class=\"colab-df-container\">\n",
              "      <div>\n",
              "<style scoped>\n",
              "    .dataframe tbody tr th:only-of-type {\n",
              "        vertical-align: middle;\n",
              "    }\n",
              "\n",
              "    .dataframe tbody tr th {\n",
              "        vertical-align: top;\n",
              "    }\n",
              "\n",
              "    .dataframe thead th {\n",
              "        text-align: right;\n",
              "    }\n",
              "</style>\n",
              "<table border=\"1\" class=\"dataframe\">\n",
              "  <thead>\n",
              "    <tr style=\"text-align: right;\">\n",
              "      <th></th>\n",
              "      <th>Area</th>\n",
              "      <th>BHK</th>\n",
              "      <th>Bathroom</th>\n",
              "      <th>Parking</th>\n",
              "      <th>Status</th>\n",
              "      <th>Transaction</th>\n",
              "      <th>Type</th>\n",
              "      <th>Per_Sqft</th>\n",
              "      <th>Furnishing_Furnished</th>\n",
              "      <th>Furnishing_Semi-Furnished</th>\n",
              "      <th>Furnishing_Unfurnished</th>\n",
              "    </tr>\n",
              "  </thead>\n",
              "  <tbody>\n",
              "    <tr>\n",
              "      <th>972</th>\n",
              "      <td>1300.0</td>\n",
              "      <td>3</td>\n",
              "      <td>3.0</td>\n",
              "      <td>1.0</td>\n",
              "      <td>1</td>\n",
              "      <td>1</td>\n",
              "      <td>1</td>\n",
              "      <td>15174.0</td>\n",
              "      <td>1</td>\n",
              "      <td>0</td>\n",
              "      <td>0</td>\n",
              "    </tr>\n",
              "    <tr>\n",
              "      <th>719</th>\n",
              "      <td>1500.0</td>\n",
              "      <td>3</td>\n",
              "      <td>2.0</td>\n",
              "      <td>1.0</td>\n",
              "      <td>1</td>\n",
              "      <td>1</td>\n",
              "      <td>0</td>\n",
              "      <td>15563.0</td>\n",
              "      <td>0</td>\n",
              "      <td>0</td>\n",
              "      <td>0</td>\n",
              "    </tr>\n",
              "    <tr>\n",
              "      <th>979</th>\n",
              "      <td>780.0</td>\n",
              "      <td>2</td>\n",
              "      <td>2.0</td>\n",
              "      <td>1.0</td>\n",
              "      <td>1</td>\n",
              "      <td>1</td>\n",
              "      <td>1</td>\n",
              "      <td>9655.0</td>\n",
              "      <td>0</td>\n",
              "      <td>1</td>\n",
              "      <td>0</td>\n",
              "    </tr>\n",
              "    <tr>\n",
              "      <th>550</th>\n",
              "      <td>1500.0</td>\n",
              "      <td>3</td>\n",
              "      <td>2.0</td>\n",
              "      <td>1.0</td>\n",
              "      <td>1</td>\n",
              "      <td>0</td>\n",
              "      <td>0</td>\n",
              "      <td>28846.0</td>\n",
              "      <td>0</td>\n",
              "      <td>1</td>\n",
              "      <td>0</td>\n",
              "    </tr>\n",
              "    <tr>\n",
              "      <th>512</th>\n",
              "      <td>2250.0</td>\n",
              "      <td>3</td>\n",
              "      <td>2.0</td>\n",
              "      <td>1.0</td>\n",
              "      <td>1</td>\n",
              "      <td>1</td>\n",
              "      <td>0</td>\n",
              "      <td>4444.0</td>\n",
              "      <td>0</td>\n",
              "      <td>0</td>\n",
              "      <td>0</td>\n",
              "    </tr>\n",
              "    <tr>\n",
              "      <th>...</th>\n",
              "      <td>...</td>\n",
              "      <td>...</td>\n",
              "      <td>...</td>\n",
              "      <td>...</td>\n",
              "      <td>...</td>\n",
              "      <td>...</td>\n",
              "      <td>...</td>\n",
              "      <td>...</td>\n",
              "      <td>...</td>\n",
              "      <td>...</td>\n",
              "      <td>...</td>\n",
              "    </tr>\n",
              "    <tr>\n",
              "      <th>821</th>\n",
              "      <td>1250.0</td>\n",
              "      <td>3</td>\n",
              "      <td>3.0</td>\n",
              "      <td>2.0</td>\n",
              "      <td>0</td>\n",
              "      <td>0</td>\n",
              "      <td>0</td>\n",
              "      <td>8060.0</td>\n",
              "      <td>0</td>\n",
              "      <td>0</td>\n",
              "      <td>1</td>\n",
              "    </tr>\n",
              "    <tr>\n",
              "      <th>1014</th>\n",
              "      <td>1260.0</td>\n",
              "      <td>3</td>\n",
              "      <td>2.0</td>\n",
              "      <td>1.0</td>\n",
              "      <td>1</td>\n",
              "      <td>1</td>\n",
              "      <td>0</td>\n",
              "      <td>5556.0</td>\n",
              "      <td>0</td>\n",
              "      <td>1</td>\n",
              "      <td>0</td>\n",
              "    </tr>\n",
              "    <tr>\n",
              "      <th>503</th>\n",
              "      <td>1100.0</td>\n",
              "      <td>2</td>\n",
              "      <td>2.0</td>\n",
              "      <td>1.0</td>\n",
              "      <td>1</td>\n",
              "      <td>1</td>\n",
              "      <td>1</td>\n",
              "      <td>30556.0</td>\n",
              "      <td>0</td>\n",
              "      <td>1</td>\n",
              "      <td>0</td>\n",
              "    </tr>\n",
              "    <tr>\n",
              "      <th>401</th>\n",
              "      <td>495.0</td>\n",
              "      <td>2</td>\n",
              "      <td>2.0</td>\n",
              "      <td>1.0</td>\n",
              "      <td>1</td>\n",
              "      <td>0</td>\n",
              "      <td>0</td>\n",
              "      <td>6111.0</td>\n",
              "      <td>0</td>\n",
              "      <td>1</td>\n",
              "      <td>0</td>\n",
              "    </tr>\n",
              "    <tr>\n",
              "      <th>1089</th>\n",
              "      <td>1600.0</td>\n",
              "      <td>3</td>\n",
              "      <td>4.0</td>\n",
              "      <td>1.0</td>\n",
              "      <td>1</td>\n",
              "      <td>1</td>\n",
              "      <td>1</td>\n",
              "      <td>10556.0</td>\n",
              "      <td>0</td>\n",
              "      <td>0</td>\n",
              "      <td>1</td>\n",
              "    </tr>\n",
              "  </tbody>\n",
              "</table>\n",
              "<p>378 rows × 11 columns</p>\n",
              "</div>\n",
              "      <button class=\"colab-df-convert\" onclick=\"convertToInteractive('df-c1d33fe3-2996-4e38-bf20-1b3ffa7edb9d')\"\n",
              "              title=\"Convert this dataframe to an interactive table.\"\n",
              "              style=\"display:none;\">\n",
              "        \n",
              "  <svg xmlns=\"http://www.w3.org/2000/svg\" height=\"24px\"viewBox=\"0 0 24 24\"\n",
              "       width=\"24px\">\n",
              "    <path d=\"M0 0h24v24H0V0z\" fill=\"none\"/>\n",
              "    <path d=\"M18.56 5.44l.94 2.06.94-2.06 2.06-.94-2.06-.94-.94-2.06-.94 2.06-2.06.94zm-11 1L8.5 8.5l.94-2.06 2.06-.94-2.06-.94L8.5 2.5l-.94 2.06-2.06.94zm10 10l.94 2.06.94-2.06 2.06-.94-2.06-.94-.94-2.06-.94 2.06-2.06.94z\"/><path d=\"M17.41 7.96l-1.37-1.37c-.4-.4-.92-.59-1.43-.59-.52 0-1.04.2-1.43.59L10.3 9.45l-7.72 7.72c-.78.78-.78 2.05 0 2.83L4 21.41c.39.39.9.59 1.41.59.51 0 1.02-.2 1.41-.59l7.78-7.78 2.81-2.81c.8-.78.8-2.07 0-2.86zM5.41 20L4 18.59l7.72-7.72 1.47 1.35L5.41 20z\"/>\n",
              "  </svg>\n",
              "      </button>\n",
              "      \n",
              "  <style>\n",
              "    .colab-df-container {\n",
              "      display:flex;\n",
              "      flex-wrap:wrap;\n",
              "      gap: 12px;\n",
              "    }\n",
              "\n",
              "    .colab-df-convert {\n",
              "      background-color: #E8F0FE;\n",
              "      border: none;\n",
              "      border-radius: 50%;\n",
              "      cursor: pointer;\n",
              "      display: none;\n",
              "      fill: #1967D2;\n",
              "      height: 32px;\n",
              "      padding: 0 0 0 0;\n",
              "      width: 32px;\n",
              "    }\n",
              "\n",
              "    .colab-df-convert:hover {\n",
              "      background-color: #E2EBFA;\n",
              "      box-shadow: 0px 1px 2px rgba(60, 64, 67, 0.3), 0px 1px 3px 1px rgba(60, 64, 67, 0.15);\n",
              "      fill: #174EA6;\n",
              "    }\n",
              "\n",
              "    [theme=dark] .colab-df-convert {\n",
              "      background-color: #3B4455;\n",
              "      fill: #D2E3FC;\n",
              "    }\n",
              "\n",
              "    [theme=dark] .colab-df-convert:hover {\n",
              "      background-color: #434B5C;\n",
              "      box-shadow: 0px 1px 3px 1px rgba(0, 0, 0, 0.15);\n",
              "      filter: drop-shadow(0px 1px 2px rgba(0, 0, 0, 0.3));\n",
              "      fill: #FFFFFF;\n",
              "    }\n",
              "  </style>\n",
              "\n",
              "      <script>\n",
              "        const buttonEl =\n",
              "          document.querySelector('#df-c1d33fe3-2996-4e38-bf20-1b3ffa7edb9d button.colab-df-convert');\n",
              "        buttonEl.style.display =\n",
              "          google.colab.kernel.accessAllowed ? 'block' : 'none';\n",
              "\n",
              "        async function convertToInteractive(key) {\n",
              "          const element = document.querySelector('#df-c1d33fe3-2996-4e38-bf20-1b3ffa7edb9d');\n",
              "          const dataTable =\n",
              "            await google.colab.kernel.invokeFunction('convertToInteractive',\n",
              "                                                     [key], {});\n",
              "          if (!dataTable) return;\n",
              "\n",
              "          const docLinkHtml = 'Like what you see? Visit the ' +\n",
              "            '<a target=\"_blank\" href=https://colab.research.google.com/notebooks/data_table.ipynb>data table notebook</a>'\n",
              "            + ' to learn more about interactive tables.';\n",
              "          element.innerHTML = '';\n",
              "          dataTable['output_type'] = 'display_data';\n",
              "          await google.colab.output.renderOutput(dataTable, element);\n",
              "          const docLink = document.createElement('div');\n",
              "          docLink.innerHTML = docLinkHtml;\n",
              "          element.appendChild(docLink);\n",
              "        }\n",
              "      </script>\n",
              "    </div>\n",
              "  </div>\n",
              "  "
            ]
          },
          "metadata": {},
          "execution_count": 9
        }
      ]
    },
    {
      "cell_type": "code",
      "source": [
        "d"
      ],
      "metadata": {
        "colab": {
          "base_uri": "https://localhost:8080/"
        },
        "id": "N_B-wY2CtaKN",
        "outputId": "3db2d3c4-bb74-41f7-abc0-05b11198908a"
      },
      "execution_count": 10,
      "outputs": [
        {
          "output_type": "execute_result",
          "data": {
            "text/plain": [
              "972      9200000\n",
              "719     13500000\n",
              "979      7500000\n",
              "550     28500000\n",
              "512     10000000\n",
              "          ...   \n",
              "821      8500000\n",
              "1014     7000000\n",
              "503     15000000\n",
              "401      2150000\n",
              "1089    18800000\n",
              "Name: Price, Length: 378, dtype: int64"
            ]
          },
          "metadata": {},
          "execution_count": 10
        }
      ]
    },
    {
      "cell_type": "code",
      "source": [
        "models = {\n",
        "    \"                     Linear Regression\": LinearRegression(),\n",
        "    \" Linear Regression (L2 Regularization)\": Ridge(),\n",
        "    \" Linear Regression (L1 Regularization)\": Lasso(),\n",
        "    \"                   K-Nearest Neighbors\": KNeighborsRegressor(),\n",
        "    \"                        Neural Network\": MLPRegressor(),\n",
        "    \"Support Vector Machine (Linear Kernel)\": LinearSVR(),\n",
        "    \"   Support Vector Machine (RBF Kernel)\": SVR(),\n",
        "    \"                         Decision Tree\": DecisionTreeRegressor(),\n",
        "    \"                         Random Forest\": RandomForestRegressor(),\n",
        "    \"                     Gradient Boosting\": GradientBoostingRegressor(),\n",
        "    \"                               XGBoost\": XGBRegressor(),\n",
        "    \"                              LightGBM\": LGBMRegressor(),\n",
        "    \"                              CatBoost\": CatBoostRegressor(verbose=0)\n",
        "}\n",
        "\n",
        "for name, model in models.items():\n",
        "    model.fit(X_train, y_train)\n",
        "    print(name + \" trained.\")"
      ],
      "metadata": {
        "execution": {
          "iopub.status.busy": "2022-09-09T14:18:04.940179Z",
          "iopub.execute_input": "2022-09-09T14:18:04.940505Z",
          "iopub.status.idle": "2022-09-09T14:18:09.204753Z",
          "shell.execute_reply.started": "2022-09-09T14:18:04.940477Z",
          "shell.execute_reply": "2022-09-09T14:18:09.203484Z"
        },
        "trusted": true,
        "colab": {
          "base_uri": "https://localhost:8080/"
        },
        "id": "24TqL07qZwpX",
        "outputId": "cb921590-92a8-4a95-e96e-1515004c6f22"
      },
      "execution_count": 11,
      "outputs": [
        {
          "output_type": "stream",
          "name": "stdout",
          "text": [
            "                     Linear Regression trained.\n",
            " Linear Regression (L2 Regularization) trained.\n",
            " Linear Regression (L1 Regularization) trained.\n",
            "                   K-Nearest Neighbors trained.\n",
            "                        Neural Network trained.\n",
            "Support Vector Machine (Linear Kernel) trained.\n",
            "   Support Vector Machine (RBF Kernel) trained.\n",
            "                         Decision Tree trained.\n",
            "                         Random Forest trained.\n",
            "                     Gradient Boosting trained.\n",
            "[21:32:43] WARNING: /workspace/src/objective/regression_obj.cu:152: reg:linear is now deprecated in favor of reg:squarederror.\n",
            "                               XGBoost trained.\n",
            "                              LightGBM trained.\n",
            "                              CatBoost trained.\n"
          ]
        }
      ]
    },
    {
      "cell_type": "code",
      "source": [
        "scores=[]\n",
        "for name, model in models.items():\n",
        "    print(name + \" R^2 Score: {:.5f}\".format(model.score(X_test[X_train.columns], y_test)))\n",
        "    scores.append(model.score(X_test, y_test))"
      ],
      "metadata": {
        "execution": {
          "iopub.status.busy": "2022-09-09T14:18:09.206196Z",
          "iopub.execute_input": "2022-09-09T14:18:09.206863Z",
          "iopub.status.idle": "2022-09-09T14:18:09.486498Z",
          "shell.execute_reply.started": "2022-09-09T14:18:09.206828Z",
          "shell.execute_reply": "2022-09-09T14:18:09.485324Z"
        },
        "trusted": true,
        "colab": {
          "base_uri": "https://localhost:8080/"
        },
        "id": "NWddoJX8ZwpY",
        "outputId": "d3e226af-479d-41ce-b3e1-b9125f3f9aa0"
      },
      "execution_count": 12,
      "outputs": [
        {
          "output_type": "stream",
          "name": "stdout",
          "text": [
            "                     Linear Regression R^2 Score: 0.61593\n",
            " Linear Regression (L2 Regularization) R^2 Score: 0.61586\n",
            " Linear Regression (L1 Regularization) R^2 Score: 0.61593\n",
            "                   K-Nearest Neighbors R^2 Score: 0.71695\n",
            "                        Neural Network R^2 Score: -0.62248\n",
            "Support Vector Machine (Linear Kernel) R^2 Score: -0.62248\n",
            "   Support Vector Machine (RBF Kernel) R^2 Score: -0.07453\n",
            "                         Decision Tree R^2 Score: 0.68735\n",
            "                         Random Forest R^2 Score: 0.85819\n",
            "                     Gradient Boosting R^2 Score: 0.86464\n",
            "                               XGBoost R^2 Score: 0.88208\n",
            "                              LightGBM R^2 Score: 0.82286\n",
            "                              CatBoost R^2 Score: 0.87339\n"
          ]
        }
      ]
    },
    {
      "cell_type": "code",
      "source": [
        "best_model_ind=np.argmax(scores)\n",
        "best_model= list(models.values())[best_model_ind]\n",
        "best_model.save_model(\"model.json\",)"
      ],
      "metadata": {
        "execution": {
          "iopub.status.busy": "2022-09-09T14:19:10.230404Z",
          "iopub.execute_input": "2022-09-09T14:19:10.230811Z",
          "iopub.status.idle": "2022-09-09T14:19:10.238959Z",
          "shell.execute_reply.started": "2022-09-09T14:19:10.230777Z",
          "shell.execute_reply": "2022-09-09T14:19:10.237606Z"
        },
        "trusted": true,
        "id": "unRvWuIGZwpY"
      },
      "execution_count": 13,
      "outputs": []
    },
    {
      "cell_type": "code",
      "source": [
        "import pickle\n",
        "pickle_out=open('classifier.pkl','wb')\n",
        "pickle.dump(best_model,pickle_out)\n",
        "pickle_out.close()"
      ],
      "metadata": {
        "execution": {
          "iopub.status.busy": "2022-09-09T14:30:20.030471Z",
          "iopub.execute_input": "2022-09-09T14:30:20.030978Z",
          "iopub.status.idle": "2022-09-09T14:30:20.037939Z",
          "shell.execute_reply.started": "2022-09-09T14:30:20.030943Z",
          "shell.execute_reply": "2022-09-09T14:30:20.036803Z"
        },
        "trusted": true,
        "id": "X-ChHAT8ZwpZ"
      },
      "execution_count": 14,
      "outputs": []
    },
    {
      "cell_type": "code",
      "source": [
        "pickle.dump(scaler,open('scaler.pkl','wb'))"
      ],
      "metadata": {
        "id": "v7A3RdcydJha"
      },
      "execution_count": 16,
      "outputs": []
    },
    {
      "cell_type": "code",
      "source": [
        "from keras.models import Model, load_model\n",
        "\n",
        "loaded_model=pickle.load(open('classifier.pkl','rb'))\n",
        "type(loaded_model)"
      ],
      "metadata": {
        "colab": {
          "base_uri": "https://localhost:8080/"
        },
        "id": "Cp4tnS1vZwpZ",
        "outputId": "406b14cc-7880-426c-fdc4-48a3a5affd67"
      },
      "execution_count": 17,
      "outputs": [
        {
          "output_type": "stream",
          "name": "stdout",
          "text": [
            "[21:41:57] WARNING: /workspace/src/objective/regression_obj.cu:152: reg:linear is now deprecated in favor of reg:squarederror.\n"
          ]
        },
        {
          "output_type": "execute_result",
          "data": {
            "text/plain": [
              "xgboost.sklearn.XGBRegressor"
            ]
          },
          "metadata": {},
          "execution_count": 17
        }
      ]
    },
    {
      "cell_type": "code",
      "source": [
        "labels=list(X.columns)\n",
        "input_data=pd.DataFrame([[750.0, 2.0, 2.0, 1.0, 1, 0, 1, 6667.0, 1, 0, 0]],columns=labels)"
      ],
      "metadata": {
        "id": "wS0Fj8HGnyZz"
      },
      "execution_count": 18,
      "outputs": []
    },
    {
      "cell_type": "code",
      "source": [
        "cols_when_model_builds = loaded_model.get_booster().feature_names\n",
        "input_data=pd.DataFrame(inp,columns=cols_when_model_builds)"
      ],
      "metadata": {
        "colab": {
          "base_uri": "https://localhost:8080/",
          "height": 188
        },
        "id": "Dmk8K_FCdN59",
        "outputId": "2f1508ad-dfe2-4a8c-fa49-87f28addb6a8"
      },
      "execution_count": 21,
      "outputs": [
        {
          "output_type": "error",
          "ename": "NameError",
          "evalue": "ignored",
          "traceback": [
            "\u001b[0;31m---------------------------------------------------------------------------\u001b[0m",
            "\u001b[0;31mNameError\u001b[0m                                 Traceback (most recent call last)",
            "\u001b[0;32m<ipython-input-21-6a9c35760f40>\u001b[0m in \u001b[0;36m<module>\u001b[0;34m\u001b[0m\n\u001b[1;32m      1\u001b[0m \u001b[0mcols_when_model_builds\u001b[0m \u001b[0;34m=\u001b[0m \u001b[0mloaded_model\u001b[0m\u001b[0;34m.\u001b[0m\u001b[0mget_booster\u001b[0m\u001b[0;34m(\u001b[0m\u001b[0;34m)\u001b[0m\u001b[0;34m.\u001b[0m\u001b[0mfeature_names\u001b[0m\u001b[0;34m\u001b[0m\u001b[0;34m\u001b[0m\u001b[0m\n\u001b[0;32m----> 2\u001b[0;31m \u001b[0minput_data\u001b[0m\u001b[0;34m=\u001b[0m\u001b[0mpd\u001b[0m\u001b[0;34m.\u001b[0m\u001b[0mDataFrame\u001b[0m\u001b[0;34m(\u001b[0m\u001b[0minp\u001b[0m\u001b[0;34m,\u001b[0m\u001b[0mcolumns\u001b[0m\u001b[0;34m=\u001b[0m\u001b[0mcols_when_model_builds\u001b[0m\u001b[0;34m)\u001b[0m\u001b[0;34m\u001b[0m\u001b[0;34m\u001b[0m\u001b[0m\n\u001b[0m",
            "\u001b[0;31mNameError\u001b[0m: name 'inp' is not defined"
          ]
        }
      ]
    },
    {
      "cell_type": "code",
      "source": [
        "input_data"
      ],
      "metadata": {
        "colab": {
          "base_uri": "https://localhost:8080/",
          "height": 162
        },
        "id": "J8WJAagadNXp",
        "outputId": "eef83a2a-bb92-4367-b98e-8aadb1f490ff"
      },
      "execution_count": 22,
      "outputs": [
        {
          "output_type": "execute_result",
          "data": {
            "text/plain": [
              "    Area  BHK  Bathroom  Parking  Status  Transaction  Type  Per_Sqft  \\\n",
              "0  750.0  2.0       2.0      1.0       1            0     1    6667.0   \n",
              "\n",
              "   Furnishing_Furnished  Furnishing_Semi-Furnished  Furnishing_Unfurnished  \n",
              "0                     1                          0                       0  "
            ],
            "text/html": [
              "\n",
              "  <div id=\"df-3b27b5cf-37e0-4214-8dff-481afa23d518\">\n",
              "    <div class=\"colab-df-container\">\n",
              "      <div>\n",
              "<style scoped>\n",
              "    .dataframe tbody tr th:only-of-type {\n",
              "        vertical-align: middle;\n",
              "    }\n",
              "\n",
              "    .dataframe tbody tr th {\n",
              "        vertical-align: top;\n",
              "    }\n",
              "\n",
              "    .dataframe thead th {\n",
              "        text-align: right;\n",
              "    }\n",
              "</style>\n",
              "<table border=\"1\" class=\"dataframe\">\n",
              "  <thead>\n",
              "    <tr style=\"text-align: right;\">\n",
              "      <th></th>\n",
              "      <th>Area</th>\n",
              "      <th>BHK</th>\n",
              "      <th>Bathroom</th>\n",
              "      <th>Parking</th>\n",
              "      <th>Status</th>\n",
              "      <th>Transaction</th>\n",
              "      <th>Type</th>\n",
              "      <th>Per_Sqft</th>\n",
              "      <th>Furnishing_Furnished</th>\n",
              "      <th>Furnishing_Semi-Furnished</th>\n",
              "      <th>Furnishing_Unfurnished</th>\n",
              "    </tr>\n",
              "  </thead>\n",
              "  <tbody>\n",
              "    <tr>\n",
              "      <th>0</th>\n",
              "      <td>750.0</td>\n",
              "      <td>2.0</td>\n",
              "      <td>2.0</td>\n",
              "      <td>1.0</td>\n",
              "      <td>1</td>\n",
              "      <td>0</td>\n",
              "      <td>1</td>\n",
              "      <td>6667.0</td>\n",
              "      <td>1</td>\n",
              "      <td>0</td>\n",
              "      <td>0</td>\n",
              "    </tr>\n",
              "  </tbody>\n",
              "</table>\n",
              "</div>\n",
              "      <button class=\"colab-df-convert\" onclick=\"convertToInteractive('df-3b27b5cf-37e0-4214-8dff-481afa23d518')\"\n",
              "              title=\"Convert this dataframe to an interactive table.\"\n",
              "              style=\"display:none;\">\n",
              "        \n",
              "  <svg xmlns=\"http://www.w3.org/2000/svg\" height=\"24px\"viewBox=\"0 0 24 24\"\n",
              "       width=\"24px\">\n",
              "    <path d=\"M0 0h24v24H0V0z\" fill=\"none\"/>\n",
              "    <path d=\"M18.56 5.44l.94 2.06.94-2.06 2.06-.94-2.06-.94-.94-2.06-.94 2.06-2.06.94zm-11 1L8.5 8.5l.94-2.06 2.06-.94-2.06-.94L8.5 2.5l-.94 2.06-2.06.94zm10 10l.94 2.06.94-2.06 2.06-.94-2.06-.94-.94-2.06-.94 2.06-2.06.94z\"/><path d=\"M17.41 7.96l-1.37-1.37c-.4-.4-.92-.59-1.43-.59-.52 0-1.04.2-1.43.59L10.3 9.45l-7.72 7.72c-.78.78-.78 2.05 0 2.83L4 21.41c.39.39.9.59 1.41.59.51 0 1.02-.2 1.41-.59l7.78-7.78 2.81-2.81c.8-.78.8-2.07 0-2.86zM5.41 20L4 18.59l7.72-7.72 1.47 1.35L5.41 20z\"/>\n",
              "  </svg>\n",
              "      </button>\n",
              "      \n",
              "  <style>\n",
              "    .colab-df-container {\n",
              "      display:flex;\n",
              "      flex-wrap:wrap;\n",
              "      gap: 12px;\n",
              "    }\n",
              "\n",
              "    .colab-df-convert {\n",
              "      background-color: #E8F0FE;\n",
              "      border: none;\n",
              "      border-radius: 50%;\n",
              "      cursor: pointer;\n",
              "      display: none;\n",
              "      fill: #1967D2;\n",
              "      height: 32px;\n",
              "      padding: 0 0 0 0;\n",
              "      width: 32px;\n",
              "    }\n",
              "\n",
              "    .colab-df-convert:hover {\n",
              "      background-color: #E2EBFA;\n",
              "      box-shadow: 0px 1px 2px rgba(60, 64, 67, 0.3), 0px 1px 3px 1px rgba(60, 64, 67, 0.15);\n",
              "      fill: #174EA6;\n",
              "    }\n",
              "\n",
              "    [theme=dark] .colab-df-convert {\n",
              "      background-color: #3B4455;\n",
              "      fill: #D2E3FC;\n",
              "    }\n",
              "\n",
              "    [theme=dark] .colab-df-convert:hover {\n",
              "      background-color: #434B5C;\n",
              "      box-shadow: 0px 1px 3px 1px rgba(0, 0, 0, 0.15);\n",
              "      filter: drop-shadow(0px 1px 2px rgba(0, 0, 0, 0.3));\n",
              "      fill: #FFFFFF;\n",
              "    }\n",
              "  </style>\n",
              "\n",
              "      <script>\n",
              "        const buttonEl =\n",
              "          document.querySelector('#df-3b27b5cf-37e0-4214-8dff-481afa23d518 button.colab-df-convert');\n",
              "        buttonEl.style.display =\n",
              "          google.colab.kernel.accessAllowed ? 'block' : 'none';\n",
              "\n",
              "        async function convertToInteractive(key) {\n",
              "          const element = document.querySelector('#df-3b27b5cf-37e0-4214-8dff-481afa23d518');\n",
              "          const dataTable =\n",
              "            await google.colab.kernel.invokeFunction('convertToInteractive',\n",
              "                                                     [key], {});\n",
              "          if (!dataTable) return;\n",
              "\n",
              "          const docLinkHtml = 'Like what you see? Visit the ' +\n",
              "            '<a target=\"_blank\" href=https://colab.research.google.com/notebooks/data_table.ipynb>data table notebook</a>'\n",
              "            + ' to learn more about interactive tables.';\n",
              "          element.innerHTML = '';\n",
              "          dataTable['output_type'] = 'display_data';\n",
              "          await google.colab.output.renderOutput(dataTable, element);\n",
              "          const docLink = document.createElement('div');\n",
              "          docLink.innerHTML = docLinkHtml;\n",
              "          element.appendChild(docLink);\n",
              "        }\n",
              "      </script>\n",
              "    </div>\n",
              "  </div>\n",
              "  "
            ]
          },
          "metadata": {},
          "execution_count": 22
        }
      ]
    },
    {
      "cell_type": "code",
      "source": [
        "loaded_model.predict(input_data)"
      ],
      "metadata": {
        "id": "1azBTrtydLNT"
      },
      "execution_count": null,
      "outputs": []
    },
    {
      "cell_type": "code",
      "source": [
        "loaded_model.predict(input_data)"
      ],
      "metadata": {
        "id": "PzAq1pEsOcB7"
      },
      "execution_count": null,
      "outputs": []
    },
    {
      "cell_type": "code",
      "source": [
        "X_test.iloc[0].shape"
      ],
      "metadata": {
        "id": "8_MHvM1UV37y"
      },
      "execution_count": null,
      "outputs": []
    },
    {
      "cell_type": "code",
      "source": [],
      "metadata": {
        "id": "H7OhmC0QWXYZ"
      },
      "execution_count": null,
      "outputs": []
    },
    {
      "cell_type": "code",
      "source": [
        "cols_when_model_builds"
      ],
      "metadata": {
        "id": "Nhy6-pHSfUQl"
      },
      "execution_count": null,
      "outputs": []
    },
    {
      "cell_type": "code",
      "source": [
        "input_data"
      ],
      "metadata": {
        "id": "mw-htlc7Z0Co"
      },
      "execution_count": null,
      "outputs": []
    },
    {
      "cell_type": "code",
      "source": [],
      "metadata": {
        "id": "lCaT3KxNbNiY"
      },
      "execution_count": null,
      "outputs": []
    }
  ]
}